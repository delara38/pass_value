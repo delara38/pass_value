{
 "cells": [
  {
   "cell_type": "code",
   "execution_count": 1,
   "metadata": {},
   "outputs": [],
   "source": [
    "import pandas as pd\n",
    "import numpy as np\n",
    "from sklearn.linear_model import LinearRegression, Ridge,  BayesianRidge, LogisticRegression\n",
    "import requests\n",
    "import seaborn as sns\n",
    "import math\n",
    "from sklearn.ensemble import GradientBoostingClassifier"
   ]
  },
  {
   "cell_type": "code",
   "execution_count": 2,
   "metadata": {},
   "outputs": [],
   "source": [
    "#open up matches info and make a list of all the match ids\n",
    "tournament = requests.get('https://raw.githubusercontent.com/statsbomb/open-data/master/data/matches/43.json').json()\n",
    "\n",
    "match_ids = []\n",
    "for g in tournament:\n",
    "    m_id = g['match_id']\n",
    "    match_ids.append(m_id)\n"
   ]
  },
  {
   "cell_type": "code",
   "execution_count": 3,
   "metadata": {},
   "outputs": [
    {
     "data": {
      "text/plain": [
       "59843"
      ]
     },
     "execution_count": 3,
     "metadata": {},
     "output_type": "execute_result"
    }
   ],
   "source": [
    "path = 'https://raw.githubusercontent.com/statsbomb/open-data/master/data/events/{}.json'\n",
    "\n",
    "n = 0\n",
    "X = []\n",
    "for ids in match_ids:\n",
    "\n",
    "    events = requests.get(path.format(ids)).json()\n",
    "    \n",
    "    passes =  [x for x in events if x['type']['name'] == \"Pass\" and x['position']['name'] != 'Goalkeeper']\n",
    "    n += len(passes)\n",
    "    for p in range(len(events)):\n",
    "        if events[p]['type']['name'] == 'Pass' and events[p]['position']['name'] != 'Goalkeeper':\n",
    "            minute = events[p]['minute']\n",
    "            second = events[p]['second']\n",
    "            x = events[p]['pass']['end_location'][0]\n",
    "            y = events[p]['pass']['end_location'][1]\n",
    "            pos = events[p]['possession_team']['id']\n",
    "            angle = events[p]['pass']['angle']\n",
    "            distance = events[p]['pass']['length']\n",
    "            try:\n",
    "                speed = distance/events[p]['duration']\n",
    "            except:\n",
    "                speed = distance\n",
    "            goal = 0\n",
    "            ga = 0\n",
    "            for i in range(p + 1, len(events)):\n",
    "                if (events[i]['minute'] < (minute+1)) or (events[i]['minute'] == (minute+1) and events[i]['second'] < second):\n",
    "                    if events[i]['type']['name'] == 'Shot':\n",
    "                            if events[i]['shot']['outcome']['name'] == 'Goal':\n",
    "                                if events[i]['possession_team']['id'] == pos:\n",
    "                                    goal += 1\n",
    "                                else:\n",
    "                                    ga += 1\n",
    "                else:\n",
    "                    break\n",
    "            gd = goal - ga\n",
    "            if gd > 1:\n",
    "                gd = 1\n",
    "            elif gd < -1:\n",
    "                gd = -1\n",
    "            \n",
    "            X.append([ids,x,y,angle, distance, speed, gd])\n",
    "        else:\n",
    "            pass\n",
    "len(X)"
   ]
  },
  {
   "cell_type": "code",
   "execution_count": 4,
   "metadata": {},
   "outputs": [
    {
     "ename": "NameError",
     "evalue": "name 'x2' is not defined",
     "output_type": "error",
     "traceback": [
      "\u001b[0;31m---------------------------------------------------------------------------\u001b[0m",
      "\u001b[0;31mNameError\u001b[0m                                 Traceback (most recent call last)",
      "\u001b[0;32m<ipython-input-4-95386bf0ae1d>\u001b[0m in \u001b[0;36m<module>\u001b[0;34m\u001b[0m\n\u001b[1;32m      1\u001b[0m \u001b[0mdf\u001b[0m \u001b[0;34m=\u001b[0m \u001b[0mpd\u001b[0m\u001b[0;34m.\u001b[0m\u001b[0mDataFrame\u001b[0m\u001b[0;34m(\u001b[0m\u001b[0mX\u001b[0m\u001b[0;34m)\u001b[0m\u001b[0;34m\u001b[0m\u001b[0;34m\u001b[0m\u001b[0m\n\u001b[0;32m----> 2\u001b[0;31m \u001b[0mdf2\u001b[0m \u001b[0;34m=\u001b[0m \u001b[0mpd\u001b[0m\u001b[0;34m.\u001b[0m\u001b[0mDataFrame\u001b[0m\u001b[0;34m(\u001b[0m\u001b[0mx2\u001b[0m\u001b[0;34m)\u001b[0m\u001b[0;34m\u001b[0m\u001b[0;34m\u001b[0m\u001b[0m\n\u001b[0m",
      "\u001b[0;31mNameError\u001b[0m: name 'x2' is not defined"
     ]
    }
   ],
   "source": [
    "df = pd.DataFrame(X)\n",
    "df2 = pd.DataFrame(x2)"
   ]
  },
  {
   "cell_type": "code",
   "execution_count": null,
   "metadata": {},
   "outputs": [],
   "source": [
    "all_players = {}\n",
    "c = []\n",
    "for ids in match_ids:\n",
    "    train = df[df[0] != ids]\n",
    "    predict = df[df[0] == ids]\n",
    "    \n",
    "    train_x = train.iloc[:,1:6].values.reshape(-1,5)\n",
    "    train_y = train.iloc[:,6].values.reshape(-1,1)\n",
    "    model = LinearRegression()\n",
    "    model.fit(train_x, train_y)\n",
    "    \n",
    "    events = requests.get(path.format(ids)).json()\n",
    "    for p in range(len(events)):\n",
    "        if events[p]['type']['name'] == 'Pass' and events[p]['position']['name'] != 'Goalkeeper':\n",
    "         \n",
    "            player_id = events[p]['player']['id']\n",
    "            player_name = events[p]['player']['name']\n",
    "            \n",
    "            minute = events[p]['minute']\n",
    "            second = events[p]['second']\n",
    "            x = events[p]['pass']['end_location'][0]\n",
    "            y = events[p]['pass']['end_location'][1]\n",
    "            pos = events[p]['possession_team']['id']\n",
    "            angle = events[p]['pass']['angle']\n",
    "            distance = events[p]['pass']['length']\n",
    "            try:\n",
    "                speed = distance/events[p]['duration']\n",
    "            except:\n",
    "                speed = distance\n",
    "            \n",
    "            inputs = np.array([x,y,angle, distance, speed]).reshape(1,5)\n",
    "            chance = model.predict(inputs)[0][0]\n",
    "            if chance > 1:\n",
    "                chance = 1\n",
    "            \n",
    "\n",
    "            c.append(chance)\n",
    "        \n",
    "            if player_id in all_players:\n",
    "                all_players[player_id]['PV'] += chance\n",
    "                all_players[player_id]['Passes'] += 1\n",
    "                \n",
    "                if ids in all_players[player_id]['games']:\n",
    "                    pass\n",
    "                else:\n",
    "                    all_players[player_id]['games'].append(ids)\n",
    "            else:\n",
    "                all_players[player_id] = {}\n",
    "                all_players[player_id]['PV'] = chance\n",
    "                all_players[player_id]['Passes']  = 1\n",
    "                all_players[player_id]['Name'] = player_name  \n",
    "                all_players[player_id]['Team'] = events[p]['possession_team']['name']\n",
    "                all_players[player_id]['Position'] = events[p]['position']['name'].split(\" \")[-1]\n",
    "                all_players[player_id]['games'] = []\n",
    "                all_players[player_id]['games'].append(ids)"
   ]
  },
  {
   "cell_type": "code",
   "execution_count": null,
   "metadata": {},
   "outputs": [],
   "source": [
    "for players in all_players:\n",
    "    all_players[players]['games'] = len(all_players[players]['games'])"
   ]
  },
  {
   "cell_type": "code",
   "execution_count": null,
   "metadata": {},
   "outputs": [],
   "source": [
    "print(c)"
   ]
  },
  {
   "cell_type": "code",
   "execution_count": null,
   "metadata": {},
   "outputs": [],
   "source": [
    "all_players = pd.DataFrame(all_players).transpose().sort_values(by='PV', ascending=False)\n",
    "all_players['PV/pass'] = all_players['PV'] / all_players['Passes'] \n",
    "all_players.head()"
   ]
  },
  {
   "cell_type": "code",
   "execution_count": null,
   "metadata": {},
   "outputs": [],
   "source": [
    "average = all_players['PV/pass'].mean()\n",
    "print(all_players['PV/pass'].std())\n",
    "all_players = all_players.transpose().to_dict()\n",
    "print(average)"
   ]
  },
  {
   "cell_type": "code",
   "execution_count": null,
   "metadata": {},
   "outputs": [],
   "source": [
    "to_add = 100\n",
    "for player in all_players:\n",
    "    new_val = (all_players[player]['PV'] + average * to_add) / (all_players[player]['Passes'] + to_add)\n",
    "    all_players[player]['rPV/pass'] = round(new_val * 100,2)\n",
    "all_players = pd.DataFrame(all_players).transpose()"
   ]
  },
  {
   "cell_type": "code",
   "execution_count": null,
   "metadata": {},
   "outputs": [],
   "source": [
    "all_players['rPV/pass'] = all_players['rPV/pass'].astype(float)\n",
    "all_players.PV = all_players.PV.astype('float')\n",
    "all_players['Passes'] = all_players['Passes'].astype(float)\n",
    "all_players['PV/pass'] = all_players['PV/pass'].astype(float)"
   ]
  },
  {
   "cell_type": "code",
   "execution_count": null,
   "metadata": {},
   "outputs": [],
   "source": [
    "all_players.sort_values(by='rPV/pass',ascending=False).head()"
   ]
  },
  {
   "cell_type": "code",
   "execution_count": null,
   "metadata": {},
   "outputs": [],
   "source": [
    "all_players['Position'].unique()"
   ]
  },
  {
   "cell_type": "code",
   "execution_count": null,
   "metadata": {},
   "outputs": [],
   "source": [
    "defense = all_players[\"Back\" == all_players['Position']]\n",
    "forwards = all_players[(\"Forward\" == all_players['Position']) | (\"Striker\" == all_players['Position']) | (\"Wing\" == all_players['Position'])]\n",
    "mid = all_players[\"Midfield\" == all_players['Position']]\n",
    "print(len(mid) + len(forwards) + len(defense))"
   ]
  },
  {
   "cell_type": "code",
   "execution_count": null,
   "metadata": {},
   "outputs": [],
   "source": [
    "len(all_players)"
   ]
  },
  {
   "cell_type": "code",
   "execution_count": null,
   "metadata": {},
   "outputs": [],
   "source": [
    "defense['Rating'] = (defense['rPV/pass'] - defense['rPV/pass'].mean()) / defense['rPV/pass'].std()\n",
    "forwards['Rating'] = ((forwards['rPV/pass'] - forwards['rPV/pass'].mean()) / forwards['rPV/pass'].std())\n",
    "mid['Rating'] = (mid['rPV/pass'] - mid['rPV/pass'].mean()) / mid['rPV/pass'].std()"
   ]
  },
  {
   "cell_type": "code",
   "execution_count": null,
   "metadata": {},
   "outputs": [],
   "source": [
    "all_players = defense.append(forwards)\n",
    "all_players = all_players.append(mid)\n",
    "all_players = all_players.sort_values(by=['Rating'], ascending=False)\n",
    "all_players = all_players.reset_index()\n",
    "all_players.pop('index')\n",
    "all_players.head()"
   ]
  },
  {
   "cell_type": "code",
   "execution_count": null,
   "metadata": {},
   "outputs": [],
   "source": [
    "sns.distplot(all_players['rPV/pass'])"
   ]
  }
 ],
 "metadata": {
  "kernelspec": {
   "display_name": "Python 3",
   "language": "python",
   "name": "python3"
  },
  "language_info": {
   "codemirror_mode": {
    "name": "ipython",
    "version": 3
   },
   "file_extension": ".py",
   "mimetype": "text/x-python",
   "name": "python",
   "nbconvert_exporter": "python",
   "pygments_lexer": "ipython3",
   "version": "3.7.3"
  }
 },
 "nbformat": 4,
 "nbformat_minor": 2
}
